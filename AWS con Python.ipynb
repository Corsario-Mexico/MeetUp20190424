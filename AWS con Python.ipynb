{
 "cells": [
  {
   "cell_type": "markdown",
   "metadata": {},
   "source": [
    "<a href=\"https://www.meetup.com/Amazon-Web-Services-Mexico/\"><img src=\"images/AWSCDMX.png\"></a>\n",
    "# MeetUp Grupo de Usuarios AWS CDMX 20190424\n",
    "\n",
    "# Uso de AWS con Python"
   ]
  },
  {
   "cell_type": "markdown",
   "metadata": {},
   "source": [
    "## David Jonathan Sol Llaven\n",
    "T-Systems México\n",
    "\n",
    "Contacto:\n",
    "- https://medium.com/@soldavid\n",
    "- Grupo de Usuarios AWS Ciudad de México: https://www.meetup.com/Amazon-Web-Services-Mexico/\n",
    "- Canal de Slack: https://launchpass.com/awscdmx"
   ]
  },
  {
   "cell_type": "markdown",
   "metadata": {},
   "source": [
    "## ¿Cómo manejamos AWS?\n",
    "\n",
    "### A través de la [Consola AWS](https://aws.amazon.com/console/)\n",
    "\n",
    "<img src=\"images/consola.png\">"
   ]
  },
  {
   "cell_type": "markdown",
   "metadata": {},
   "source": [
    "### A través de llamadas API directas\n",
    "\n",
    "    https://ec2.amazonaws.com/?Action=RunInstances\n",
    "    &ImageId=ami-2bb65342\n",
    "    &MaxCount=3\n",
    "    &MinCount=1\n",
    "    &Placement.AvailabilityZone=us-east-1a\n",
    "    &Monitoring.Enabled=true\n",
    "    &Version=2016-11-15\n",
    "    &X-Amz-Algorithm=AWS4-HMAC-SHA256\n",
    "    &X-Amz-Credential=AKIAIOSFODNN7EXAMPLEus-east-1%2Fec2%2Faws4_request\n",
    "    &X-Amz-Date=20130813T150206Z\n",
    "    &X-Amz-SignedHeaders=content-type%3Bhost%3Bx-amz-date\n",
    "    &X-Amz-Signature=ced6826de92d2bdeed8f846f0bf508e8559e98e4b0194b84example54174deb456c\n",
    "    Content-type: application/json\n",
    "    host:ec2.amazonaws.com"
   ]
  },
  {
   "cell_type": "markdown",
   "metadata": {},
   "source": [
    "### A través de [AWS CLI](https://aws.amazon.com/cli/)\n",
    "\n",
    "    >aws s3 ls  --profile SNDBX\n",
    "    2018-07-17 15:39:39 amqlkinnsgtw01a-fileshare-smb\n",
    "    2018-09-20 21:03:54 amsbtinnsgtw01g\n",
    "    2018-09-06 11:10:39 amseninnaim01g\n",
    "    2018-11-22 17:58:51 amseninnseg01g\n",
    "    2018-05-21 15:13:49 cf-templates-fmsc56vfvtdz-us-east-1\n",
    "    2019-03-26 11:45:38 orquestacion\n",
    "    2019-02-26 16:04:42 red-hat-openshift-openshiftstack-1-registrybucket-1a1uc2vy8hvhp\n",
    "    2019-02-26 16:04:43 red-hat-openshift-openshiftstack-1e0-outputbucket-x2ogc6th606q\n",
    "    2019-02-26 16:04:50 red-hat-openshift-openshiftstack-lambdazipsbucket-s82l02hs48gx"
   ]
  },
  {
   "cell_type": "markdown",
   "metadata": {},
   "source": [
    "### A través de los [SDKs](https://aws.amazon.com/tools/)\n",
    "\n",
    "- Javascript\n",
    "- PHP\n",
    "- Go\n",
    "- Ruby\n",
    "- Java\n",
    "- Muchos más..."
   ]
  },
  {
   "cell_type": "markdown",
   "metadata": {},
   "source": [
    "### El SDK de Python se llama [Boto3](https://aws.amazon.com/sdk-for-python/)\n",
    "\n",
    "Nos permite el acceso a los recursos de AWS de forma simple, a traves de:\n",
    "\n",
    "- Clientes: Acceso de Bajo Nivel\n",
    "\n",
    "      sqs = boto3.client('sqs')\n",
    "\n",
    "- Recursos: Acceso de Alto Nivel\n",
    "\n",
    "      s3 = boto3.resource('s3')\n",
    "\n",
    "Y nos proporciona mecanismos para ejecutar comandos como son:\n",
    "\n",
    "- Sesiones\n",
    "\n",
    "      session = boto3.session.Session()\n",
    "    \n",
    "- Colecciones\n",
    "\n",
    "      for bucket in s3.buckets.all():\n",
    "          print(bucket.name)\n",
    "    \n",
    "- Paginadores\n",
    "\n",
    "      paginator = client.get_paginator('list_objects')\n",
    "      page_iterator = paginator.paginate(Bucket='my-bucket')\n",
    "      for page in page_iterator:\n",
    "          print(page['Contents'])\n",
    "        \n",
    "- Waiters\n",
    "\n",
    "      waiter = client.get_waiter('alarm_exists')"
   ]
  },
  {
   "cell_type": "markdown",
   "metadata": {},
   "source": [
    "## Ejemplos en la vida real\n",
    "\n",
    "No van a funcionar para otras personas, ya que utilizan mi configuración local.\n",
    "\n",
    "Lo cual es excelente, por que se puede compatir código y documentación sin arriesgar nuestras credenciales."
   ]
  },
  {
   "cell_type": "code",
   "execution_count": null,
   "metadata": {},
   "outputs": [],
   "source": [
    "# Importa el SDK para AWS\n",
    "import boto3\n",
    "# Abre una sesion con un nombre de perfil definido en el archivo ~/.aws/credentials\n",
    "session = boto3.session.Session(profile_name='DEV')\n",
    "# También se puede hacer tuilizando variables de ambiente del sistema operativo:\n",
    "# AWS_PROFILE\n",
    "# AWS_ACCESS_KEY_ID\n",
    "# AWS_SECRET_ACCESS_KEY\n",
    "# Para mas información ver https://boto3.amazonaws.com/v1/documentation/api/latest/guide/configuration.html\n",
    "# Usando esa sesión se abre una conexión tipo recurso a S3\n",
    "s3 = session.resource('s3')\n",
    "# Se obtienen todos los buckets en esa cuenta, y se imprime el nombre de cada una de ellas\n",
    "for bucket in s3.buckets.all():\n",
    "    print(bucket.name)"
   ]
  },
  {
   "cell_type": "code",
   "execution_count": null,
   "metadata": {},
   "outputs": [],
   "source": [
    "bucket = s3.Bucket('orquestacion')\n",
    "fecha = bucket.creation_date.strftime('%Y-%m-%d a las %H:%M')\n",
    "print(f'Bucket {bucket.name} creada el {fecha}')"
   ]
  },
  {
   "cell_type": "code",
   "execution_count": null,
   "metadata": {},
   "outputs": [],
   "source": [
    "import pprint\n",
    "s3_client = session.client('s3')\n",
    "paginator = s3_client.get_paginator('list_objects')\n",
    "page_iterator = paginator.paginate(Bucket='orquestacion')\n",
    "for page in page_iterator:\n",
    "          pprint.pprint(page['Contents'])"
   ]
  },
  {
   "cell_type": "code",
   "execution_count": null,
   "metadata": {},
   "outputs": [],
   "source": [
    "session = boto3.session.Session(profile_name='PRD')\n",
    "cloudwatch_client = session.client('cloudwatch')\n",
    "cadena_widget = '{ \"metrics\": [ [ \"AWS/CloudFront\", \"Requests\", \"Region\", \"Global\", \"DistributionId\", \"E4MSYTJKDY01N\", { \"period\": 3600, \"stat\": \"Sum\" } ] ], \"view\": \"timeSeries\", \"stacked\": false, \"width\": 800, \"height\": 300, \"start\": \"-P28D\", \"end\": \"P0D\", \"timezone\": \"-0500\" }'\n",
    "respuesta = cloudwatch_client.get_metric_widget_image(MetricWidget=cadena_widget)"
   ]
  },
  {
   "cell_type": "code",
   "execution_count": null,
   "metadata": {},
   "outputs": [],
   "source": [
    "respuesta[\"MetricWidgetImage\"]"
   ]
  },
  {
   "cell_type": "code",
   "execution_count": null,
   "metadata": {},
   "outputs": [],
   "source": [
    "from IPython.display import Image\n",
    "Image(respuesta[\"MetricWidgetImage\"]) "
   ]
  },
  {
   "cell_type": "markdown",
   "metadata": {},
   "source": [
    "![Python](images/Python.jpg)\n",
    "## ¿Qué es [Python](https://www.python.org/)?\n",
    "Python es un lenguaje interpretado de tipos de variables dinámico, que ha ganado mucha popularidad dada su facilidad de aprendizaje, claridad en el código y amplio número de librerias para muchos casos de uso.\n",
    "* Creado en 1991 por Guido van Rossum\n",
    "https://www.python.org/"
   ]
  },
  {
   "cell_type": "markdown",
   "metadata": {},
   "source": [
    "![Anaconda](images/Anaconda.png)\n",
    "## ¿Qué es [Anaconda](https://www.anaconda.com/)?\n",
    "Es un plataforma para realizar Ciencia de Datos con Python/R (y mas).\n",
    "![Anaconda distribution](images/Anaconda_Distribution.png)"
   ]
  },
  {
   "cell_type": "markdown",
   "metadata": {},
   "source": [
    "![Conda](images/Conda.svg)\n",
    "## ¿Qué es [Conda](https://conda.io/en/latest/)?\n",
    "Es un administrador de paquetes (librerias), dependencias y ambientes para Python, pero además soporta *cualquier* lenguaje.\n",
    "\n",
    "Funciona en Linux, MacOs y Windows.\n",
    "\n",
    "Nos permite definir *Ambientes Virtuales*.\n",
    "\n",
    "Hay dos _versiones_:\n",
    "\n",
    "- Anaconda: Incluye todos los paquetes de Anaconda, y ocupa alrededor de 3 GB.\n",
    "- Miniconda: Solo lo minimo requerido, ocupa 400 MB. *Permite instalar paquetes posteriormente*\n",
    "\n",
    "Mi recomendación es instalar Miniconda, y agregar los paquetes deseados en Ambientes Virtuales. Excepto que sepan y utilicen todo lo que Anaconda incluye.\n",
    "\n",
    "[Instrucciones de Instalación](https://conda.io/projects/conda/en/latest/user-guide/install/index.html)"
   ]
  },
  {
   "cell_type": "markdown",
   "metadata": {},
   "source": [
    "## Agregar el canal [conda-forge](https://conda-forge.org/)\n",
    "\n",
    "Es una colección de paquetes generada por al acomunidad para Conda.\n",
    "\n",
    "nos da acceso a mas paquetes (incluyendo muchos de AWS) y versiones mas actualziadas de los mismos."
   ]
  },
  {
   "cell_type": "code",
   "execution_count": null,
   "metadata": {},
   "outputs": [],
   "source": [
    "conda config --add channels conda-forge"
   ]
  },
  {
   "cell_type": "markdown",
   "metadata": {},
   "source": [
    "## Actualización de Conda"
   ]
  },
  {
   "cell_type": "code",
   "execution_count": null,
   "metadata": {},
   "outputs": [],
   "source": [
    "D:\\conda update conda\n",
    "Collecting package metadata: done\n",
    "Solving environment: done\n",
    "\n",
    "## Package Plan ##\n",
    "\n",
    "  environment location: d:\\anaconda3\n",
    "\n",
    "  added / updated specs:\n",
    "    - conda\n",
    "\n",
    "\n",
    "The following packages will be downloaded:\n",
    "\n",
    "    package                    |            build\n",
    "    ---------------------------|-----------------\n",
    "    blas-1.0                   |              mkl           6 KB\n",
    "    libblas-3.8.0              |            6_mkl         3.5 MB  conda-forge\n",
    "    libcblas-3.8.0             |            6_mkl         3.5 MB  conda-forge\n",
    "    liblapack-3.8.0            |            6_mkl         3.5 MB  conda-forge\n",
    "    mkl-service-2.0.1          |   py37hfa6e2cd_0          58 KB  conda-forge\n",
    "    spyder-3.3.4               |           py37_0         2.7 MB\n",
    "    ------------------------------------------------------------\n",
    "                                           Total:        13.3 MB\n",
    "\n",
    "The following packages will be UPDATED:\n",
    "\n",
    "  blas                                          conda-forge --> pkgs/main\n",
    "  cryptography                           2.5-py37h74b6da3_1 --> 2.6.1-py37hb32ad35_0\n",
    "  icu                          conda-forge::icu-58.2-vc14_0 --> pkgs/main::icu-58.2-ha66f8fd_1\n",
    "  krb5                                 1.16.3-h038dc86_1000 --> 1.16.3-hdd46e55_1001\n",
    "  libarchive                            3.3.3-hd1ea8e3_1002 --> 3.3.3-h0005e80_1004\n",
    "  libblas                           3.8.0-5_h8933c1f_netlib --> 3.8.0-6_mkl\n",
    "  libcblas                          3.8.0-5_h8933c1f_netlib --> 3.8.0-6_mkl\n",
    "  liblapack                         3.8.0-5_h8933c1f_netlib --> 3.8.0-6_mkl\n",
    "  libssh2                               1.8.0-hc4dcbb0_1003 --> 1.8.2-h642c060_2\n",
    "  lz4-c                                      1.8.1.2-vc14_0 --> 1.8.3-he025d50_1001\n",
    "  mkl                                            2018.0.3-1 --> 2019.3-203\n",
    "  mkl-service        pkgs/main::mkl-service-1.1.2-py37hb21~ --> conda-forge::mkl-service-2.0.1-py37hfa6e2cd_0\n",
    "  mkl_fft            pkgs/main::mkl_fft-1.0.6-py37hdbbee80~ --> conda-forge::mkl_fft-1.0.12-py37hfa6e2cd_0\n",
    "  mkl_random         pkgs/main::mkl_random-1.0.1-py37h77b8~ --> conda-forge::mkl_random-1.0.2-py37h830ac7b_2\n",
    "  numpy-base                          1.14.5-py37h4a99626_4 --> 1.16.3-py37hc3f5095_0\n",
    "  openssl                                 1.0.2r-hfa6e2cd_0 --> 1.1.1b-hfa6e2cd_2\n",
    "  pyqt               conda-forge::pyqt-5.6.0-py37h764d66f_~ --> pkgs/main::pyqt-5.9.2-py37h6538335_2\n",
    "  qt                       conda-forge::qt-5.6.2-h2639256_8 --> pkgs/main::qt-5.9.7-vc14h73c81de_0\n",
    "  scipy                                1.1.0-py37h4f6bf74_1 --> 1.2.1-py37h29ff71c_0\n",
    "  sip                              4.18.1-py37h6538335_1000 --> 4.19.8-py37h6538335_1000\n",
    "  vc                                   conda-forge::vc-14-0 --> pkgs/main::vc-14.1-h0510ff6_4\n",
    "  vs2015_runtime     conda-forge::vs2015_runtime-14.0.2542~ --> pkgs/main::vs2015_runtime-14.15.26706-h3a45250_0\n",
    "\n",
    "The following packages will be SUPERSEDED by a higher-priority channel:\n",
    "\n",
    "  numpy              conda-forge::numpy-1.16.3-py37h873a0b~ --> pkgs/main::numpy-1.16.3-py37h19fb1c0_0\n",
    "  spyder                                        conda-forge --> pkgs/main\n",
    "\n",
    "The following packages will be DOWNGRADED:\n",
    "\n",
    "  pycurl                            7.43.0.2-py37h74b6da3_0 --> 7.43.0.2-py37h7a1dbc1_0\n",
    "\n",
    "\n",
    "Proceed ([y]/n)? y\n",
    "\n",
    "\n",
    "Downloading and Extracting Packages\n",
    "libcblas-3.8.0       | 3.5 MB    | ################################################################################# | 100%\n",
    "mkl-service-2.0.1    | 58 KB     | ################################################################################# | 100%\n",
    "liblapack-3.8.0      | 3.5 MB    | ################################################################################# | 100%\n",
    "libblas-3.8.0        | 3.5 MB    | ################################################################################# | 100%\n",
    "blas-1.0             | 6 KB      | ################################################################################# | 100%\n",
    "spyder-3.3.4         | 2.7 MB    | ################################################################################# | 100%\n",
    "Preparing transaction: done\n",
    "Verifying transaction: done\n",
    "Executing transaction: done\n",
    "\n",
    "D:\\>conda update conda\n",
    "Collecting package metadata: done\n",
    "Solving environment: done\n",
    "\n",
    "# All requested packages already installed."
   ]
  },
  {
   "cell_type": "markdown",
   "metadata": {},
   "source": [
    "## Crear ambientes virtuales\n",
    "\n",
    "Nos permiten desarrollar y/o operr con la tranquilidad de no tener conflictos entre diferentes versiones requeridas de paquetes.\n",
    "\n",
    "Podemos elegir la versión de Python y los paquetes a utilizar de forma independiente."
   ]
  },
  {
   "cell_type": "code",
   "execution_count": null,
   "metadata": {},
   "outputs": [],
   "source": [
    "D:\\>conda create --name aws python=3.7\n",
    "Collecting package metadata: done\n",
    "Solving environment: done\n",
    "\n",
    "## Package Plan ##\n",
    "\n",
    "  environment location: d:\\anaconda3\\envs\\aws\n",
    "\n",
    "  added / updated specs:\n",
    "    - python=3.7\n",
    "\n",
    "\n",
    "The following NEW packages will be INSTALLED:\n",
    "\n",
    "  ca-certificates    conda-forge/win-64::ca-certificates-2019.3.9-hecc5488_0\n",
    "  certifi            conda-forge/win-64::certifi-2019.3.9-py37_0\n",
    "  openssl            conda-forge/win-64::openssl-1.1.1b-hfa6e2cd_2\n",
    "  pip                conda-forge/win-64::pip-19.0.3-py37_0\n",
    "  python             conda-forge/win-64::python-3.7.3-hb12ca83_0\n",
    "  setuptools         conda-forge/win-64::setuptools-41.0.1-py37_0\n",
    "  sqlite             conda-forge/win-64::sqlite-3.26.0-hfa6e2cd_1001\n",
    "  vc                 conda-forge/win-64::vc-14-0\n",
    "  vs2015_runtime     conda-forge/win-64::vs2015_runtime-14.0.25420-0\n",
    "  wheel              conda-forge/win-64::wheel-0.33.1-py37_0\n",
    "  wincertstore       conda-forge/win-64::wincertstore-0.2-py37_1002\n",
    "\n",
    "\n",
    "Proceed ([y]/n)? y\n",
    "\n",
    "Preparing transaction: done\n",
    "Verifying transaction: done\n",
    "Executing transaction: done\n",
    "#\n",
    "# To activate this environment, use\n",
    "#\n",
    "#     $ conda activate aws\n",
    "#\n",
    "# To deactivate an active environment, use\n",
    "#\n",
    "#     $ conda deactivate"
   ]
  },
  {
   "cell_type": "markdown",
   "metadata": {},
   "source": [
    "## Utilizar el ambiente virtual"
   ]
  },
  {
   "cell_type": "code",
   "execution_count": null,
   "metadata": {},
   "outputs": [],
   "source": [
    "D:\\>conda activate aws\n",
    "\n",
    "(aws) D:\\>conda list\n",
    "# packages in environment at d:\\anaconda3\\envs\\aws:\n",
    "#\n",
    "# Name                    Version                   Build  Channel\n",
    "ca-certificates           2019.3.9             hecc5488_0    conda-forge\n",
    "certifi                   2019.3.9                 py37_0    conda-forge\n",
    "openssl                   1.1.1b               hfa6e2cd_2    conda-forge\n",
    "pip                       19.0.3                   py37_0    conda-forge\n",
    "python                    3.7.3                hb12ca83_0    conda-forge\n",
    "setuptools                41.0.1                   py37_0    conda-forge\n",
    "sqlite                    3.26.0            hfa6e2cd_1001    conda-forge\n",
    "vc                        14                            0    conda-forge\n",
    "vs2015_runtime            14.0.25420                    0    conda-forge\n",
    "wheel                     0.33.1                   py37_0    conda-forge\n",
    "wincertstore              0.2                   py37_1002    conda-forge"
   ]
  },
  {
   "cell_type": "markdown",
   "metadata": {},
   "source": [
    "## Instalar los paquetes de AWS"
   ]
  },
  {
   "cell_type": "code",
   "execution_count": null,
   "metadata": {},
   "outputs": [],
   "source": [
    "(aws) D:\\>conda install awscli boto3 -y\n",
    "Collecting package metadata: done\n",
    "Solving environment: done\n",
    "\n",
    "## Package Plan ##\n",
    "\n",
    "  environment location: d:\\anaconda3\\envs\\aws\n",
    "\n",
    "  added / updated specs:\n",
    "    - awscli\n",
    "    - boto3\n",
    "\n",
    "\n",
    "The following NEW packages will be INSTALLED:\n",
    "\n",
    "  asn1crypto         conda-forge/win-64::asn1crypto-0.24.0-py37_1003\n",
    "  awscli             conda-forge/win-64::awscli-1.16.144-py37_0\n",
    "  boto3              conda-forge/noarch::boto3-1.9.134-py_0\n",
    "  botocore           conda-forge/noarch::botocore-1.12.134-py_0\n",
    "  cffi               conda-forge/win-64::cffi-1.12.3-py37hb32ad35_0\n",
    "  colorama           conda-forge/noarch::colorama-0.3.9-py_1\n",
    "  cryptography       conda-forge/win-64::cryptography-2.6.1-py37hb32ad35_0\n",
    "  docutils           conda-forge/win-64::docutils-0.14-py37_1001\n",
    "  idna               conda-forge/win-64::idna-2.8-py37_1000\n",
    "  jmespath           conda-forge/noarch::jmespath-0.9.4-py_0\n",
    "  pyasn1             conda-forge/noarch::pyasn1-0.4.4-py_1\n",
    "  pycparser          conda-forge/win-64::pycparser-2.19-py37_1\n",
    "  pyopenssl          conda-forge/win-64::pyopenssl-19.0.0-py37_0\n",
    "  pysocks            conda-forge/win-64::pysocks-1.6.8-py37_1002\n",
    "  python-dateutil    conda-forge/noarch::python-dateutil-2.8.0-py_0\n",
    "  pyyaml             conda-forge/win-64::pyyaml-3.13-py37hfa6e2cd_1001\n",
    "  rsa                conda-forge/noarch::rsa-3.4.2-py_1\n",
    "  s3transfer         conda-forge/win-64::s3transfer-0.2.0-py37_0\n",
    "  six                conda-forge/win-64::six-1.12.0-py37_1000\n",
    "  urllib3            conda-forge/win-64::urllib3-1.24.2-py37_0\n",
    "  win_inet_pton      conda-forge/win-64::win_inet_pton-1.1.0-py37_0\n",
    "  yaml               conda-forge/win-64::yaml-0.1.7-hfa6e2cd_1001\n",
    "\n",
    "Preparing transaction: done\n",
    "Verifying transaction: done\n",
    "Executing transaction: done"
   ]
  },
  {
   "cell_type": "markdown",
   "metadata": {},
   "source": [
    "![AWS CLI](images/AWSCLI.png)\n",
    "## Configurar AWS CLI"
   ]
  },
  {
   "cell_type": "code",
   "execution_count": null,
   "metadata": {},
   "outputs": [],
   "source": [
    "(aws) D:\\>aws configure --profile DEV\n",
    "AWS Access Key ID [****************XXXX]: ****************XXXX\n",
    "AWS Secret Access Key [****************XXXX]: ****************XXXX\n",
    "Default region name [us-east-1]: us-east-1\n",
    "Default output format [json]: json\n",
    "    \n",
    "(aws) D:\\>aws s3 ls --profile DEV"
   ]
  },
  {
   "cell_type": "markdown",
   "metadata": {},
   "source": [
    "![Boto3](images/AWSSDK.png)\n",
    "## Validar Boto3"
   ]
  },
  {
   "cell_type": "code",
   "execution_count": null,
   "metadata": {},
   "outputs": [],
   "source": [
    "import boto3\n",
    "session = boto3.session.Session(profile_name='DEV')\n",
    "s3 = session.resource('s3')\n",
    "for bucket in s3.buckets.all():\n",
    "    print(bucket.name)"
   ]
  },
  {
   "cell_type": "markdown",
   "metadata": {},
   "source": [
    "![Jupyter](images/Jupyter.png)\n",
    "## ¿Qué es [Jupyter Notebook](https://jupyter.org/)?\n",
    "Es una aplicación web que permite crear y compartir documentos que contienen código real, visualizaciones y texto.\n",
    "\n",
    "Se puede utilizar para documentar procesos, desarrollar programas interactivamente e incluso dar presentaciones.\n",
    "\n",
    "## Instalar Jupyter Notebook"
   ]
  },
  {
   "cell_type": "code",
   "execution_count": null,
   "metadata": {},
   "outputs": [],
   "source": [
    "(aws) D:\\>conda install jupyter -y\n",
    "Collecting package metadata: done\n",
    "Solving environment: done\n",
    "\n",
    "## Package Plan ##\n",
    "\n",
    "  environment location: d:\\anaconda3\\envs\\aws\n",
    "\n",
    "  added / updated specs:\n",
    "    - jupyter\n",
    "\n",
    "\n",
    "The following NEW packages will be INSTALLED:\n",
    "\n",
    "  attrs              conda-forge/noarch::attrs-19.1.0-py_0\n",
    "  backcall           conda-forge/noarch::backcall-0.1.0-py_0\n",
    "  bleach             conda-forge/noarch::bleach-3.1.0-py_0\n",
    "  decorator          conda-forge/noarch::decorator-4.4.0-py_0\n",
    "  defusedxml         conda-forge/noarch::defusedxml-0.5.0-py_1\n",
    "  entrypoints        conda-forge/win-64::entrypoints-0.3-py37_1000\n",
    "  icu                pkgs/main/win-64::icu-58.2-ha66f8fd_1\n",
    "  ipykernel          conda-forge/win-64::ipykernel-5.1.0-py37h39e3cac_1002\n",
    "  ipython            conda-forge/win-64::ipython-7.4.0-py37h39e3cac_0\n",
    "  ipython_genutils   conda-forge/noarch::ipython_genutils-0.2.0-py_1\n",
    "  ipywidgets         conda-forge/noarch::ipywidgets-7.4.2-py_0\n",
    "  jedi               conda-forge/win-64::jedi-0.13.3-py37_0\n",
    "  jinja2             conda-forge/noarch::jinja2-2.10.1-py_0\n",
    "  jpeg               conda-forge/win-64::jpeg-9c-hfa6e2cd_1001\n",
    "  jsonschema         conda-forge/win-64::jsonschema-3.0.1-py37_0\n",
    "  jupyter            conda-forge/noarch::jupyter-1.0.0-py_2\n",
    "  jupyter_client     conda-forge/noarch::jupyter_client-5.2.4-py_3\n",
    "  jupyter_console    conda-forge/noarch::jupyter_console-6.0.0-py_0\n",
    "  jupyter_core       conda-forge/noarch::jupyter_core-4.4.0-py_0\n",
    "  libpng             conda-forge/win-64::libpng-1.6.37-h7602738_0\n",
    "  libsodium          conda-forge/win-64::libsodium-1.0.16-h2fa13f4_1001\n",
    "  m2w64-gcc-libgfor~ pkgs/msys2/win-64::m2w64-gcc-libgfortran-5.3.0-6\n",
    "  m2w64-gcc-libs     pkgs/msys2/win-64::m2w64-gcc-libs-5.3.0-7\n",
    "  m2w64-gcc-libs-co~ pkgs/msys2/win-64::m2w64-gcc-libs-core-5.3.0-7\n",
    "  m2w64-gmp          pkgs/msys2/win-64::m2w64-gmp-6.1.0-2\n",
    "  m2w64-libwinpthre~ pkgs/msys2/win-64::m2w64-libwinpthread-git-5.0.0.4634.697f757-2\n",
    "  markupsafe         conda-forge/win-64::markupsafe-1.1.1-py37hfa6e2cd_0\n",
    "  mistune            conda-forge/win-64::mistune-0.8.4-py37hfa6e2cd_1000\n",
    "  msys2-conda-epoch  pkgs/msys2/win-64::msys2-conda-epoch-20160418-1\n",
    "  nbconvert          conda-forge/noarch::nbconvert-5.4.1-py_2\n",
    "  nbformat           conda-forge/noarch::nbformat-4.4.0-py_1\n",
    "  notebook           conda-forge/win-64::notebook-5.7.8-py37_0\n",
    "  pandoc             conda-forge/win-64::pandoc-2.7.2-0\n",
    "  pandocfilters      conda-forge/noarch::pandocfilters-1.4.2-py_1\n",
    "  parso              conda-forge/noarch::parso-0.4.0-py_0\n",
    "  pickleshare        conda-forge/win-64::pickleshare-0.7.5-py37_1000\n",
    "  prometheus_client  conda-forge/noarch::prometheus_client-0.6.0-py_0\n",
    "  prompt_toolkit     conda-forge/noarch::prompt_toolkit-2.0.9-py_0\n",
    "  pygments           conda-forge/noarch::pygments-2.3.1-py_0\n",
    "  pyqt               pkgs/main/win-64::pyqt-5.9.2-py37h6538335_2\n",
    "  pyrsistent         conda-forge/win-64::pyrsistent-0.14.11-py37hfa6e2cd_0\n",
    "  pywinpty           conda-forge/win-64::pywinpty-0.5.5-py37_1000\n",
    "  pyzmq              conda-forge/win-64::pyzmq-18.0.1-py37he7828b0_1\n",
    "  qt                 pkgs/main/win-64::qt-5.9.7-vc14h73c81de_0\n",
    "  qtconsole          conda-forge/noarch::qtconsole-4.4.3-py_0\n",
    "  send2trash         conda-forge/noarch::send2trash-1.5.0-py_0\n",
    "  sip                conda-forge/win-64::sip-4.19.8-py37h6538335_1000\n",
    "  terminado          conda-forge/win-64::terminado-0.8.2-py37_0\n",
    "  testpath           conda-forge/noarch::testpath-0.4.2-py_1001\n",
    "  tornado            conda-forge/win-64::tornado-6.0.2-py37hfa6e2cd_0\n",
    "  traitlets          conda-forge/win-64::traitlets-4.3.2-py37_1000\n",
    "  wcwidth            conda-forge/noarch::wcwidth-0.1.7-py_1\n",
    "  webencodings       conda-forge/noarch::webencodings-0.5.1-py_1\n",
    "  widgetsnbextension conda-forge/win-64::widgetsnbextension-3.4.2-py37_1000\n",
    "  winpty             conda-forge/win-64::winpty-0.4.3-4\n",
    "  zeromq             conda-forge/win-64::zeromq-4.3.1-he025d50_1000\n",
    "  zlib               conda-forge/win-64::zlib-1.2.11-h2fa13f4_1004\n",
    "\n",
    "The following packages will be UPDATED:\n",
    "\n",
    "  vc                                   conda-forge::vc-14-0 --> pkgs/main::vc-14.1-h0510ff6_4\n",
    "  vs2015_runtime     conda-forge::vs2015_runtime-14.0.2542~ --> pkgs/main::vs2015_runtime-14.15.26706-h3a45250_0\n",
    "\n",
    "\n",
    "Preparing transaction: done\n",
    "Verifying transaction: done\n",
    "Executing transaction: - b'Enabling notebook extension jupyter-js-widgets/extension...\\n      - Validating: ok\\n'\n",
    "done"
   ]
  },
  {
   "cell_type": "markdown",
   "metadata": {},
   "source": [
    "## Ejecutar Jupyter Notebook"
   ]
  },
  {
   "cell_type": "code",
   "execution_count": null,
   "metadata": {},
   "outputs": [],
   "source": [
    "(aws) D:\\>jupyter notebook"
   ]
  },
  {
   "cell_type": "markdown",
   "metadata": {},
   "source": [
    "![Jupyter home](images/JupyterHome.png)"
   ]
  },
  {
   "cell_type": "markdown",
   "metadata": {},
   "source": [
    "## Desactivar Ambiente Virtual"
   ]
  },
  {
   "cell_type": "code",
   "execution_count": null,
   "metadata": {},
   "outputs": [],
   "source": [
    "(aws) D:\\>conda deactivate\n",
    "\n",
    "D:\\>"
   ]
  },
  {
   "cell_type": "markdown",
   "metadata": {},
   "source": [
    "## Gracias\n",
    "![Ciencia](images/Science.jpg)\n",
    "\n",
    "<a style=\"background-color:black;color:white;text-decoration:none;padding:4px 6px;font-family:-apple-system, BlinkMacSystemFont, &quot;San Francisco&quot;, &quot;Helvetica Neue&quot;, Helvetica, Ubuntu, Roboto, Noto, &quot;Segoe UI&quot;, Arial, sans-serif;font-size:12px;font-weight:bold;line-height:1.2;display:inline-block;border-radius:3px\" href=\"https://unsplash.com/@markusspiske?utm_medium=referral&amp;utm_campaign=photographer-credit&amp;utm_content=creditBadge\" target=\"_blank\" rel=\"noopener noreferrer\" title=\"Download free do whatever you want high-resolution photos from Markus Spiske\"><span style=\"display:inline-block;padding:2px 3px\"><svg xmlns=\"http://www.w3.org/2000/svg\" style=\"height:12px;width:auto;position:relative;vertical-align:middle;top:-2px;fill:white\" viewBox=\"0 0 32 32\"><title>unsplash-logo</title><path d=\"M10 9V0h12v9H10zm12 5h10v18H0V14h10v9h12v-9z\"></path></svg></span><span style=\"display:inline-block;padding:2px 3px\">Photo by Markus Spiske on Unsplash</span></a>"
   ]
  }
 ],
 "metadata": {
  "kernelspec": {
   "display_name": "Python 3",
   "language": "python",
   "name": "python3"
  },
  "language_info": {
   "codemirror_mode": {
    "name": "ipython",
    "version": 3
   },
   "file_extension": ".py",
   "mimetype": "text/x-python",
   "name": "python",
   "nbconvert_exporter": "python",
   "pygments_lexer": "ipython3",
   "version": "3.7.1"
  }
 },
 "nbformat": 4,
 "nbformat_minor": 2
}
