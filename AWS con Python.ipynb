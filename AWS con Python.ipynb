{
 "cells": [
  {
   "cell_type": "markdown",
   "metadata": {
    "slideshow": {
     "slide_type": "slide"
    }
   },
   "source": [
    "<a href=\"https://www.meetup.com/Amazon-Web-Services-Mexico/\"><img src=\"images/AWSCDMX.png\"></a>\n",
    "# MeetUp Grupo de Usuarios AWS CDMX 20190424\n",
    "\n",
    "# Uso de AWS con Python"
   ]
  },
  {
   "cell_type": "markdown",
   "metadata": {
    "slideshow": {
     "slide_type": "slide"
    }
   },
   "source": [
    "## David Jonathan Sol Llaven\n",
    "T-Systems México\n",
    "\n",
    "Contacto:\n",
    "- https://medium.com/@soldavid\n",
    "- Grupo de Usuarios AWS Ciudad de México: https://www.meetup.com/Amazon-Web-Services-Mexico/\n",
    "- Canal de Slack: https://launchpass.com/awscdmx"
   ]
  },
  {
   "cell_type": "markdown",
   "metadata": {
    "slideshow": {
     "slide_type": "slide"
    }
   },
   "source": [
    "## ¿Cómo manejamos AWS?\n",
    "\n",
    "### A través de la [Consola AWS](https://aws.amazon.com/console/)\n",
    "\n",
    "<img src=\"images/consola.png\">"
   ]
  },
  {
   "cell_type": "markdown",
   "metadata": {
    "slideshow": {
     "slide_type": "slide"
    }
   },
   "source": [
    "### A través de llamadas API directas\n",
    "\n",
    "    https://ec2.amazonaws.com/?Action=RunInstances\n",
    "    &ImageId=ami-2bb65342\n",
    "    &MaxCount=3\n",
    "    &MinCount=1\n",
    "    &Placement.AvailabilityZone=us-east-1a\n",
    "    &Monitoring.Enabled=true\n",
    "    &Version=2016-11-15\n",
    "    &X-Amz-Algorithm=AWS4-HMAC-SHA256\n",
    "    &X-Amz-Credential=AKIAIOSFODNN7EXAMPLEus-east-1%2Fec2%2Faws4_request\n",
    "    &X-Amz-Date=20130813T150206Z\n",
    "    &X-Amz-SignedHeaders=content-type%3Bhost%3Bx-amz-date\n",
    "    &X-Amz-Signature=ced6826de92d2bdeed8f846f0bf508e8559e98e4b0194b84example54174deb456c\n",
    "    Content-type: application/json\n",
    "    host:ec2.amazonaws.com"
   ]
  },
  {
   "cell_type": "markdown",
   "metadata": {
    "slideshow": {
     "slide_type": "slide"
    }
   },
   "source": [
    "### A través de [AWS CLI](https://aws.amazon.com/cli/)\n",
    "\n",
    "``` bash\n",
    "& aws s3 ls  --profile EJEMPLO\n",
    "    2018-07-17 15:39:39 cubeta-1\n",
    "    2018-09-20 21:03:54 cubeta-2\n",
    "    2018-09-06 11:10:39 cubeta-3\n",
    "    2018-11-22 17:58:51 bitacoras\n",
    "    2018-05-21 15:13:49 cf-templates-xxxxxxxxxxxx-us-east-1\n",
    "    2019-03-26 11:45:38 orquestacion\n",
    "    2019-02-26 16:04:42 red-hat-openshift-openshiftstack-1\n",
    "    2019-02-26 16:04:43 red-hat-openshift-openshiftstack-2\n",
    "    2019-02-26 16:04:50 red-hat-openshift-openshiftstack-3\n",
    "```"
   ]
  },
  {
   "cell_type": "markdown",
   "metadata": {
    "slideshow": {
     "slide_type": "slide"
    }
   },
   "source": [
    "### Ejemplo Script\n",
    "\n",
    "```bash\n",
    "#!/bin/bash\n",
    "# Obtiene los requests de la hora pasada\n",
    "# David Sol - Noviembre 2018\n",
    "\n",
    "horaInicialUTC=$(date +%FT%H:00:00Z --date '1 hour ago' -u)\n",
    "horaFinalUTC=$(date +%FT%H:00:00Z -u)\n",
    "horaLocal=$(date +%FT%H:30:00Z)\n",
    "\n",
    "printf \"Hora Inicial: %s\\n\" ${horaInicialUTC}\n",
    "printf \"Hora Final: %s\\n\" ${horaFinalUTC}\n",
    "\n",
    "requests=$(aws cloudwatch get-metric-statistics \\\n",
    "    --start-time ${horaInicialUTC} \\\n",
    "    --end-time ${horaFinalUTC} \\\n",
    "    --cli-input-json file://requests-no-hour.json \\\n",
    "    --query 'Datapoints[0].Sum' \\\n",
    "    --output text \\\n",
    "    --profile EJEMPLO)\n",
    "\n",
    "LC_NUMERIC=en_US.UTF-8\n",
    "printf -v n_requests \"%'.0f\" ${requests}\n",
    "printf \"Requests: %s\\n\" ${n_requests}\n",
    "\n",
    "sed \"s/\\[numero\\]/${n_requests}/g\" base_email.html > current_email.html\n",
    "\n",
    "mail -a 'Content-Type: text/html' \\\n",
    "     -s \"Hits CloudFront corte de las ${horaLocal:11:2}:30\" \\\n",
    "     destino@dominio.com \\\n",
    "     < current_email.html\n",
    "```"
   ]
  },
  {
   "cell_type": "markdown",
   "metadata": {
    "slideshow": {
     "slide_type": "slide"
    }
   },
   "source": [
    "### A través de los [SDKs](https://aws.amazon.com/tools/)\n",
    "\n",
    "- Javascript\n",
    "- PHP\n",
    "- Go\n",
    "- Ruby\n",
    "- Java\n",
    "- Muchos más..."
   ]
  },
  {
   "cell_type": "markdown",
   "metadata": {
    "slideshow": {
     "slide_type": "slide"
    }
   },
   "source": [
    "### El SDK de Python se llama [Boto3](https://aws.amazon.com/sdk-for-python/)\n",
    "\n",
    "Nos permite el acceso a los recursos de AWS de forma simple, a traves de:\n",
    "\n",
    "- Clientes: Acceso de Bajo Nivel\n",
    "\n",
    "      sqs = boto3.client('sqs')\n",
    "\n",
    "- Recursos: Acceso de Alto Nivel\n",
    "\n",
    "      s3 = boto3.resource('s3')\n",
    "\n",
    "Y nos proporciona mecanismos para ejecutar comandos como son:\n",
    "\n",
    "- Sesiones\n",
    "\n",
    "      session = boto3.session.Session()\n",
    "    \n",
    "- Colecciones\n",
    "\n",
    "      for bucket in s3.buckets.all():\n",
    "          print(bucket.name)\n",
    "    \n",
    "- Paginadores\n",
    "\n",
    "      paginator = client.get_paginator('list_objects')\n",
    "      page_iterator = paginator.paginate(Bucket='my-bucket')\n",
    "      for page in page_iterator:\n",
    "          print(page['Contents'])\n",
    "        \n",
    "- Waiters\n",
    "\n",
    "      waiter = client.get_waiter('alarm_exists')"
   ]
  },
  {
   "cell_type": "markdown",
   "metadata": {
    "slideshow": {
     "slide_type": "slide"
    }
   },
   "source": [
    "## Ejemplos en la vida real\n",
    "\n",
    "No van a funcionar para otras personas, ya que utilizan mi configuración local.\n",
    "\n",
    "Lo cual es excelente, por que se puede compatir código y documentación sin arriesgar nuestras credenciales."
   ]
  },
  {
   "cell_type": "code",
   "execution_count": null,
   "metadata": {
    "slideshow": {
     "slide_type": "slide"
    }
   },
   "outputs": [],
   "source": [
    "# Importa el SDK para AWS\n",
    "import boto3\n",
    "# Abre una sesion con un nombre de perfil definido en el archivo ~/.aws/credentials\n",
    "session = boto3.session.Session(profile_name='DEV')\n",
    "# También se puede hacer utilizando variables de ambiente del sistema operativo:\n",
    "# AWS_PROFILE\n",
    "# AWS_ACCESS_KEY_ID\n",
    "# AWS_SECRET_ACCESS_KEY\n",
    "# Para mas información ver https://boto3.amazonaws.com/v1/documentation/api/latest/guide/configuration.html\n",
    "# Usando esa sesión se abre una conexión tipo recurso a S3\n",
    "s3 = session.resource('s3')\n",
    "# Se obtienen todos los buckets en esa cuenta, y se imprime el nombre de cada una de ellas\n",
    "for bucket in s3.buckets.all():\n",
    "    print(bucket.name)"
   ]
  },
  {
   "cell_type": "code",
   "execution_count": null,
   "metadata": {
    "slideshow": {
     "slide_type": "slide"
    }
   },
   "outputs": [],
   "source": [
    "bucket = s3.Bucket('amcfmdevavpc01g')\n",
    "fecha = bucket.creation_date.strftime('%Y-%m-%d a las %H:%M')\n",
    "print(f'Bucket {bucket.name} creada el {fecha}')"
   ]
  },
  {
   "cell_type": "code",
   "execution_count": null,
   "metadata": {
    "slideshow": {
     "slide_type": "slide"
    }
   },
   "outputs": [],
   "source": [
    "import pprint\n",
    "s3_client = session.client('s3')\n",
    "paginator = s3_client.get_paginator('list_objects')\n",
    "page_iterator = paginator.paginate(Bucket='amneedevstgw01a')\n",
    "for page in page_iterator:\n",
    "          pprint.pprint(page['Contents'])"
   ]
  },
  {
   "cell_type": "code",
   "execution_count": null,
   "metadata": {
    "slideshow": {
     "slide_type": "slide"
    }
   },
   "outputs": [],
   "source": [
    "session = boto3.session.Session(profile_name='PRD')\n",
    "cloudwatch_client = session.client('cloudwatch')\n",
    "cadena_widget = '{ \"metrics\": [ [ \"AWS/CloudFront\", \"Requests\", \"Region\", \"Global\", \"DistributionId\", \"E4MSYTJKDY01N\", { \"period\": 3600, \"stat\": \"Sum\" } ] ], \"view\": \"timeSeries\", \"stacked\": false, \"width\": 800, \"height\": 300, \"start\": \"-P28D\", \"end\": \"P0D\", \"timezone\": \"-0500\" }'\n",
    "respuesta = cloudwatch_client.get_metric_widget_image(MetricWidget=cadena_widget)"
   ]
  },
  {
   "cell_type": "code",
   "execution_count": null,
   "metadata": {
    "slideshow": {
     "slide_type": "slide"
    }
   },
   "outputs": [],
   "source": [
    "respuesta[\"MetricWidgetImage\"]"
   ]
  },
  {
   "cell_type": "code",
   "execution_count": null,
   "metadata": {
    "slideshow": {
     "slide_type": "slide"
    }
   },
   "outputs": [],
   "source": [
    "from IPython.display import Image\n",
    "Image(respuesta[\"MetricWidgetImage\"]) "
   ]
  },
  {
   "cell_type": "markdown",
   "metadata": {
    "slideshow": {
     "slide_type": "slide"
    }
   },
   "source": [
    "![Python](images/Python.jpg)\n",
    "## ¿Qué es [Python](https://www.python.org/)?\n",
    "Python es un lenguaje:\n",
    "* Interpretado.\n",
    "* De tipos de variables dinámico.\n",
    "* Fácil de aprender.\n",
    "* Código muy claro.\n",
    "* Amplio número de librerias para muchos casos de uso.\n",
    "* Creado en 1991 por Guido van Rossum.\n",
    "* https://www.python.org/"
   ]
  },
  {
   "cell_type": "markdown",
   "metadata": {
    "slideshow": {
     "slide_type": "slide"
    }
   },
   "source": [
    "### PEP 20 - The Zen of Python\n",
    "#### https://www.python.org/dev/peps/pep-0020/"
   ]
  },
  {
   "cell_type": "code",
   "execution_count": null,
   "metadata": {
    "slideshow": {
     "slide_type": "fragment"
    }
   },
   "outputs": [],
   "source": [
    "import this"
   ]
  },
  {
   "cell_type": "markdown",
   "metadata": {
    "slideshow": {
     "slide_type": "slide"
    }
   },
   "source": [
    "### Una historia de dos Pythons\n",
    "\n",
    "* Python 2 se liberó en 2000\n",
    "    * Su última versión es 2.7\n",
    "    * Fuera de soporte en Enero de 2020\n",
    "\n",
    "\n",
    "* Python 3 se liberó en 2008\n",
    "    * Su versión actual es 3.7, pronto 3.8\n",
    "    * Es la versión soportada actualmente\n",
    "\n",
    "\n",
    "* Python 2 todavía es muy utilizada\n",
    "    * Mucho software existente aún la utiliza\n",
    "\n",
    "\n",
    "* Debemos utilizar Python 3 en la medida de lo posible\n",
    "    * Sobre todo para cosas nuevas"
   ]
  },
  {
   "cell_type": "markdown",
   "metadata": {
    "slideshow": {
     "slide_type": "slide"
    }
   },
   "source": [
    "### Una historia de dos Pythons\n",
    "\n",
    "``` bash\n",
    "$ python2 --version\n",
    "Python 2.7.15+\n",
    "```\n",
    "\n",
    "``` bash\n",
    "$ python2 -m pip --version\n",
    "pip 9.0.1 from /usr/lib/python2.7/dist-packages (python 2.7)\n",
    "```\n",
    "\n",
    "``` bash\n",
    "$ python3 --version\n",
    "Python 3.6.8\n",
    "```\n",
    "\n",
    "``` bash\n",
    "$ python3 -m pip --version\n",
    "pip 19.0.3 from /home/corsario/.local/lib/python3.6/site-packages/pip (python 3.6)\n",
    "```\n",
    "\n",
    "```bash\n",
    "$ python --version\n",
    "Python 2.7.15+\n",
    "```"
   ]
  },
  {
   "cell_type": "markdown",
   "metadata": {
    "slideshow": {
     "slide_type": "slide"
    }
   },
   "source": [
    "### ¿Hay una forma mas simple?\n",
    "\n",
    "![Meta](images/Goal.png)\n",
    "\n",
    "#### ¡Si la hay! Ambientes Virtuales."
   ]
  },
  {
   "cell_type": "markdown",
   "metadata": {
    "slideshow": {
     "slide_type": "slide"
    }
   },
   "source": [
    "### Ambientes Virtuales\n",
    "\n",
    "Nos permiten tener \"ambientes\" separados cada uno con su propia versión de Python y packetes distintos.\n",
    "\n",
    "Otra ventaja es que evitan \"colisiones\" entre los paquetes que requieren diferentes programas.\n",
    "\n",
    "* VENV - https://docs.python.org/3/library/venv.html\n",
    "\n",
    " * Forma estandárd y actualmente soportada.\n",
    "\n",
    "\n",
    "* VirtualENV - https://virtualenv.pypa.io/en/stable/\n",
    "\n",
    " * La forma anterior, posiblemente la más utilizada."
   ]
  },
  {
   "cell_type": "markdown",
   "metadata": {
    "slideshow": {
     "slide_type": "slide"
    }
   },
   "source": [
    "![Anaconda](images/Anaconda.png)\n",
    "## ¿Qué es [Anaconda](https://www.anaconda.com/)?\n",
    "Es un plataforma para realizar Ciencia de Datos con Python/R (y mas).\n",
    "![Anaconda distribution](images/Anaconda_Distribution.png)\n",
    "* https://www.anaconda.com/"
   ]
  },
  {
   "cell_type": "markdown",
   "metadata": {
    "slideshow": {
     "slide_type": "slide"
    }
   },
   "source": [
    "![Conda](images/Conda.svg)\n",
    "## ¿Qué es [Conda](https://conda.io/en/latest/)?\n",
    "Es un administrador de __paquetes (librerias), dependencias y ambientes virtuales__ para Python, pero además soporta *cualquier* lenguaje.\n",
    "\n",
    "Funciona en Linux, MacOs y Windows. No requiere permisos de administrador.\n",
    "\n",
    "Se puede obtener en dos distribuciones:\n",
    "\n",
    "- Anaconda: Incluye todos los paquetes de Anaconda, y ocupa alrededor de 3 GB.\n",
    "- Miniconda: Solo lo minimo requerido, ocupa 400 MB. *Permite instalar paquetes posteriormente*\n",
    "\n",
    "Mi recomendación es instalar Miniconda, y agregar los paquetes deseados en Ambientes Virtuales. Excepto que sepan y utilicen todo lo que Anaconda incluye.\n",
    "\n",
    "* https://conda.io/en/latest/\n",
    "\n",
    "* [Instrucciones de Instalación](https://conda.io/projects/conda/en/latest/user-guide/install/index.html)\n",
    "\n",
    "* [Conda Cheetsheat](https://docs.conda.io/projects/conda/en/latest/_downloads/1f5ecf5a87b1c1a8aaf5a7ab8a7a0ff7/conda-cheatsheet.pdf)"
   ]
  },
  {
   "cell_type": "markdown",
   "metadata": {
    "slideshow": {
     "slide_type": "slide"
    }
   },
   "source": [
    "### Instalar en Windows\n",
    "\n",
    "[Instrucciones](https://conda.io/projects/conda/en/latest/user-guide/install/windows.html).\n",
    "\n",
    "1. Desgargar el instalador de Miniconda: [Miniconda Windows 64 bits](https://repo.anaconda.com/miniconda/Miniconda3-latest-Windows-x86_64.exe).\n",
    "\n",
    "\n",
    "2. Ejecutarlo (No instalarlo como administrador).\n",
    "\n",
    "\n",
    "3. Probarlo.\n",
    "\n",
    "![Anaconda en Windows](images/AnacondaInWindows.png)"
   ]
  },
  {
   "cell_type": "code",
   "execution_count": null,
   "metadata": {
    "slideshow": {
     "slide_type": "fragment"
    }
   },
   "outputs": [],
   "source": [
    "!conda list"
   ]
  },
  {
   "cell_type": "markdown",
   "metadata": {
    "slideshow": {
     "slide_type": "slide"
    }
   },
   "source": [
    "### Instalar en MacOS\n",
    "\n",
    "[Instrucciones](https://conda.io/projects/conda/en/latest/user-guide/install/macos.html).\n",
    "\n",
    "1. Descargar el script de instalación.\n",
    "\n",
    "```bash\n",
    "wget https://repo.anaconda.com/miniconda/Miniconda3-latest-MacOSX-x86_64.sh\n",
    "```\n",
    "\n",
    "2. Ejecutar el script.\n",
    "\n",
    "```bash\n",
    "bash Miniconda3-latest-MacOSX-x86_64.sh\n",
    "```\n",
    "\n",
    "3. Probarlo (en una terminal nueva)."
   ]
  },
  {
   "cell_type": "code",
   "execution_count": null,
   "metadata": {
    "slideshow": {
     "slide_type": "fragment"
    }
   },
   "outputs": [],
   "source": [
    "!conda list"
   ]
  },
  {
   "cell_type": "markdown",
   "metadata": {
    "slideshow": {
     "slide_type": "slide"
    }
   },
   "source": [
    "### Instalar en Linux\n",
    "\n",
    "[Instrucciones](https://conda.io/projects/conda/en/latest/user-guide/install/linux.html).\n",
    "\n",
    "1. Descargar el script de instalación.\n",
    "\n",
    "```bash\n",
    "wget https://repo.anaconda.com/miniconda/Miniconda3-latest-Linux-x86_64.sh\n",
    "```\n",
    "\n",
    "2. Ejecutar el script.\n",
    "\n",
    "```bash\n",
    "bash Miniconda3-latest-Linux-x86_64.sh\n",
    "```\n",
    "\n",
    "3. Probarlo (en una terminal nueva)."
   ]
  },
  {
   "cell_type": "code",
   "execution_count": null,
   "metadata": {
    "slideshow": {
     "slide_type": "fragment"
    }
   },
   "outputs": [],
   "source": [
    "!conda list"
   ]
  },
  {
   "cell_type": "markdown",
   "metadata": {
    "slideshow": {
     "slide_type": "slide"
    }
   },
   "source": [
    "## Agregar el canal [conda-forge](https://conda-forge.org/)\n",
    "\n",
    "Es una colección de paquetes creados por la comunidad para Conda.\n",
    "\n",
    "Nos da acceso a mas paquetes (incluyendo muchos de AWS) y versiones mas actualizadas de los mismos.\n",
    "\n",
    "Es menos estable.\n",
    "\n",
    "``` bash\n",
    "conda config --add channels conda-forge\n",
    "```\n",
    "\n",
    "## [Configurar Conda](https://conda.io/projects/conda/en/latest/user-guide/configuration/use-condarc.html)\n",
    "\n",
    "Archivo de configuración:\n",
    "\n",
    "* Linux: /home/<USER>/.condarc\n",
    "* Windows: C:\\Users\\<USER>\\.condarc\n",
    "\n",
    "``` YAML\n",
    "always_yes: True\n",
    "show_channel_urls: True\n",
    "channel_priority: strict\n",
    "channels:\n",
    "- conda-forge\n",
    "- defaults\n",
    "```\n",
    "\n",
    "Nota: Esta es mi configuración, caveat emptor"
   ]
  },
  {
   "cell_type": "markdown",
   "metadata": {
    "slideshow": {
     "slide_type": "slide"
    }
   },
   "source": [
    "## Actualización de Conda\n",
    "```shell\n",
    "D:\\conda update conda\n",
    "Collecting package metadata: done\n",
    "Solving environment: done\n",
    "\n",
    "## Package Plan ##\n",
    "\n",
    "  environment location: d:\\anaconda3\n",
    "\n",
    "  added / updated specs:\n",
    "    - conda\n",
    "\n",
    "\n",
    "The following packages will be downloaded:\n",
    "\n",
    "    package                    |            build\n",
    "    ---------------------------|-----------------\n",
    "    blas-1.0                   |              mkl           6 KB\n",
    "    libblas-3.8.0              |            6_mkl         3.5 MB  conda-forge\n",
    "    libcblas-3.8.0             |            6_mkl         3.5 MB  conda-forge\n",
    "    liblapack-3.8.0            |            6_mkl         3.5 MB  conda-forge\n",
    "    mkl-service-2.0.1          |   py37hfa6e2cd_0          58 KB  conda-forge\n",
    "    spyder-3.3.4               |           py37_0         2.7 MB\n",
    "    ------------------------------------------------------------\n",
    "                                           Total:        13.3 MB\n",
    "\n",
    "The following packages will be UPDATED:\n",
    "\n",
    "  blas                                          conda-forge --> pkgs/main\n",
    "  cryptography                           2.5-py37h74b6da3_1 --> 2.6.1-py37hb32ad35_0\n",
    "  icu                          conda-forge::icu-58.2-vc14_0 --> pkgs/main::icu-58.2-ha66f8fd_1\n",
    "  krb5                                 1.16.3-h038dc86_1000 --> 1.16.3-hdd46e55_1001\n",
    "  libarchive                            3.3.3-hd1ea8e3_1002 --> 3.3.3-h0005e80_1004\n",
    "  libblas                           3.8.0-5_h8933c1f_netlib --> 3.8.0-6_mkl\n",
    "  libcblas                          3.8.0-5_h8933c1f_netlib --> 3.8.0-6_mkl\n",
    "  liblapack                         3.8.0-5_h8933c1f_netlib --> 3.8.0-6_mkl\n",
    "  libssh2                               1.8.0-hc4dcbb0_1003 --> 1.8.2-h642c060_2\n",
    "  lz4-c                                      1.8.1.2-vc14_0 --> 1.8.3-he025d50_1001\n",
    "  mkl                                            2018.0.3-1 --> 2019.3-203\n",
    "  mkl-service        pkgs/main::mkl-service-1.1.2-py37hb21~ --> conda-forge::mkl-service-2.0.1-py37hfa6e2cd_0\n",
    "  mkl_fft            pkgs/main::mkl_fft-1.0.6-py37hdbbee80~ --> conda-forge::mkl_fft-1.0.12-py37hfa6e2cd_0\n",
    "  mkl_random         pkgs/main::mkl_random-1.0.1-py37h77b8~ --> conda-forge::mkl_random-1.0.2-py37h830ac7b_2\n",
    "  numpy-base                          1.14.5-py37h4a99626_4 --> 1.16.3-py37hc3f5095_0\n",
    "  openssl                                 1.0.2r-hfa6e2cd_0 --> 1.1.1b-hfa6e2cd_2\n",
    "  pyqt               conda-forge::pyqt-5.6.0-py37h764d66f_~ --> pkgs/main::pyqt-5.9.2-py37h6538335_2\n",
    "  qt                       conda-forge::qt-5.6.2-h2639256_8 --> pkgs/main::qt-5.9.7-vc14h73c81de_0\n",
    "  scipy                                1.1.0-py37h4f6bf74_1 --> 1.2.1-py37h29ff71c_0\n",
    "  sip                              4.18.1-py37h6538335_1000 --> 4.19.8-py37h6538335_1000\n",
    "  vc                                   conda-forge::vc-14-0 --> pkgs/main::vc-14.1-h0510ff6_4\n",
    "  vs2015_runtime     conda-forge::vs2015_runtime-14.0.2542~ --> pkgs/main::vs2015_runtime-14.15.26706-h3a45250_0\n",
    "\n",
    "The following packages will be SUPERSEDED by a higher-priority channel:\n",
    "\n",
    "  numpy              conda-forge::numpy-1.16.3-py37h873a0b~ --> pkgs/main::numpy-1.16.3-py37h19fb1c0_0\n",
    "  spyder                                        conda-forge --> pkgs/main\n",
    "\n",
    "The following packages will be DOWNGRADED:\n",
    "\n",
    "  pycurl                            7.43.0.2-py37h74b6da3_0 --> 7.43.0.2-py37h7a1dbc1_0\n",
    "\n",
    "\n",
    "Proceed ([y]/n)? y\n",
    "\n",
    "\n",
    "Downloading and Extracting Packages\n",
    "libcblas-3.8.0       | 3.5 MB    | ################################################################################# | 100%\n",
    "mkl-service-2.0.1    | 58 KB     | ################################################################################# | 100%\n",
    "liblapack-3.8.0      | 3.5 MB    | ################################################################################# | 100%\n",
    "libblas-3.8.0        | 3.5 MB    | ################################################################################# | 100%\n",
    "blas-1.0             | 6 KB      | ################################################################################# | 100%\n",
    "spyder-3.3.4         | 2.7 MB    | ################################################################################# | 100%\n",
    "Preparing transaction: done\n",
    "Verifying transaction: done\n",
    "Executing transaction: done\n",
    "\n",
    "D:\\>conda update conda\n",
    "Collecting package metadata: done\n",
    "Solving environment: done\n",
    "\n",
    "# All requested packages already installed.\n",
    "```"
   ]
  },
  {
   "cell_type": "markdown",
   "metadata": {
    "slideshow": {
     "slide_type": "slide"
    }
   },
   "source": [
    "## Crear ambientes virtuales\n",
    "\n",
    "Nos permiten desarrollar y/o operar con la tranquilidad de no tener conflictos entre diferentes versiones requeridas de paquetes.\n",
    "\n",
    "Podemos elegir la versión de Python y los paquetes a utilizar de forma independiente."
   ]
  },
  {
   "cell_type": "code",
   "execution_count": null,
   "metadata": {
    "slideshow": {
     "slide_type": "fragment"
    }
   },
   "outputs": [],
   "source": [
    "!conda create --name aws python=3.7"
   ]
  },
  {
   "cell_type": "markdown",
   "metadata": {
    "slideshow": {
     "slide_type": "fragment"
    }
   },
   "source": [
    "### Utilizar el ambiente virtual"
   ]
  },
  {
   "cell_type": "code",
   "execution_count": null,
   "metadata": {
    "slideshow": {
     "slide_type": "fragment"
    }
   },
   "outputs": [],
   "source": [
    "!conda activate aws"
   ]
  },
  {
   "cell_type": "markdown",
   "metadata": {
    "slideshow": {
     "slide_type": "slide"
    }
   },
   "source": [
    "## Instalar el SDK de AWS para Python - Boto3"
   ]
  },
  {
   "cell_type": "code",
   "execution_count": null,
   "metadata": {
    "slideshow": {
     "slide_type": "fragment"
    }
   },
   "outputs": [],
   "source": [
    "!conda install awscli boto3 -y"
   ]
  },
  {
   "cell_type": "markdown",
   "metadata": {
    "slideshow": {
     "slide_type": "fragment"
    }
   },
   "source": [
    "### También podemos instalar AWS CLI"
   ]
  },
  {
   "cell_type": "code",
   "execution_count": null,
   "metadata": {
    "slideshow": {
     "slide_type": "fragment"
    }
   },
   "outputs": [],
   "source": [
    "!conda install awscli -y"
   ]
  },
  {
   "cell_type": "markdown",
   "metadata": {
    "slideshow": {
     "slide_type": "slide"
    }
   },
   "source": [
    "### AWS Access Key\n",
    "\n",
    "Se utilizan en lugar de un usuario y una contraseña para scripts y programas con AWS CLI y SDKs (como Boto3).\n",
    "\n",
    "![Access Key en la consola](images/AccessKey.png)"
   ]
  },
  {
   "cell_type": "markdown",
   "metadata": {
    "slideshow": {
     "slide_type": "slide"
    }
   },
   "source": [
    "![AWS CLI](images/AWSCLI.png)\n",
    "## Configurar AWS CLI\n",
    "``` shell\n",
    "(aws) D:\\>aws configure --profile monitor\n",
    "AWS Access Key ID [****************XXXX]: ****************XXXX\n",
    "AWS Secret Access Key [****************XXXX]: ****************XXXX\n",
    "Default region name [us-east-1]: us-west-1\n",
    "Default output format [json]: json\n",
    "```"
   ]
  },
  {
   "cell_type": "code",
   "execution_count": null,
   "metadata": {
    "slideshow": {
     "slide_type": "fragment"
    }
   },
   "outputs": [],
   "source": [
    "!aws s3 ls --profile monitor"
   ]
  },
  {
   "cell_type": "markdown",
   "metadata": {
    "slideshow": {
     "slide_type": "slide"
    }
   },
   "source": [
    "![Boto3](images/AWSSDK.png)\n",
    "## Validar Boto3"
   ]
  },
  {
   "cell_type": "code",
   "execution_count": null,
   "metadata": {
    "slideshow": {
     "slide_type": "fragment"
    }
   },
   "outputs": [],
   "source": [
    "import boto3\n",
    "session = boto3.session.Session(profile_name='monitor')\n",
    "s3 = session.resource('s3')\n",
    "for bucket in s3.buckets.all():\n",
    "    print(bucket.name)"
   ]
  },
  {
   "cell_type": "markdown",
   "metadata": {
    "slideshow": {
     "slide_type": "slide"
    }
   },
   "source": [
    "![Jupyter](images/Jupyter.png)\n",
    "## ¿Qué es [Jupyter Notebook](https://jupyter.org/)?\n",
    "Es una aplicación web que permite crear y compartir documentos que contienen código real, visualizaciones y texto.\n",
    "\n",
    "Se puede utilizar para documentar procesos, desarrollar programas interactivamente e incluso dar presentaciones.\n",
    "\n",
    "## Instalar Jupyter Notebook"
   ]
  },
  {
   "cell_type": "code",
   "execution_count": null,
   "metadata": {
    "slideshow": {
     "slide_type": "fragment"
    }
   },
   "outputs": [],
   "source": [
    "!conda install jupyter -y"
   ]
  },
  {
   "cell_type": "markdown",
   "metadata": {
    "slideshow": {
     "slide_type": "slide"
    }
   },
   "source": [
    "## Ejecutar Jupyter Notebook\n",
    "\n",
    "```bash\n",
    "$ jupyter notebook\n",
    "```\n",
    "\n",
    "![Jupyter home](images/JupyterHome.png)"
   ]
  },
  {
   "cell_type": "markdown",
   "metadata": {
    "slideshow": {
     "slide_type": "slide"
    }
   },
   "source": [
    "## [Visual Studio Code](https://code.visualstudio.com/)\n",
    "\n",
    "Ambiente de Desarrollo Integrado para Python.\n",
    "\n",
    "![Visual Studio Code](images/VSCode.png)\n",
    "\n",
    "https://code.visualstudio.com/\n",
    "\n",
    "### Soporte para Python:\n",
    "\n",
    "https://code.visualstudio.com/docs/languages/python"
   ]
  },
  {
   "cell_type": "markdown",
   "metadata": {
    "slideshow": {
     "slide_type": "slide"
    }
   },
   "source": [
    "## Python Extension\n",
    "\n",
    "https://marketplace.visualstudio.com/items?itemName=ms-python.python\n",
    "\n",
    "![Extension](images/Extension.png)"
   ]
  },
  {
   "cell_type": "markdown",
   "metadata": {
    "slideshow": {
     "slide_type": "slide"
    }
   },
   "source": [
    "## Desactivar Ambiente Virtual"
   ]
  },
  {
   "cell_type": "code",
   "execution_count": null,
   "metadata": {
    "slideshow": {
     "slide_type": "fragment"
    }
   },
   "outputs": [],
   "source": [
    "!conda deactivate"
   ]
  },
  {
   "cell_type": "markdown",
   "metadata": {
    "slideshow": {
     "slide_type": "slide"
    }
   },
   "source": [
    "## Gracias\n",
    "![Ciencia](images/Science.jpg)\n",
    "\n",
    "<a style=\"background-color:black;color:white;text-decoration:none;padding:4px 6px;font-family:-apple-system, BlinkMacSystemFont, &quot;San Francisco&quot;, &quot;Helvetica Neue&quot;, Helvetica, Ubuntu, Roboto, Noto, &quot;Segoe UI&quot;, Arial, sans-serif;font-size:12px;font-weight:bold;line-height:1.2;display:inline-block;border-radius:3px\" href=\"https://unsplash.com/@markusspiske?utm_medium=referral&amp;utm_campaign=photographer-credit&amp;utm_content=creditBadge\" target=\"_blank\" rel=\"noopener noreferrer\" title=\"Download free do whatever you want high-resolution photos from Markus Spiske\"><span style=\"display:inline-block;padding:2px 3px\"><svg xmlns=\"http://www.w3.org/2000/svg\" style=\"height:12px;width:auto;position:relative;vertical-align:middle;top:-2px;fill:white\" viewBox=\"0 0 32 32\"><title>unsplash-logo</title><path d=\"M10 9V0h12v9H10zm12 5h10v18H0V14h10v9h12v-9z\"></path></svg></span><span style=\"display:inline-block;padding:2px 3px\">Photo by Markus Spiske on Unsplash</span></a>"
   ]
  }
 ],
 "metadata": {
  "celltoolbar": "Slideshow",
  "kernelspec": {
   "display_name": "Python 3",
   "language": "python",
   "name": "python3"
  },
  "language_info": {
   "codemirror_mode": {
    "name": "ipython",
    "version": 3
   },
   "file_extension": ".py",
   "mimetype": "text/x-python",
   "name": "python",
   "nbconvert_exporter": "python",
   "pygments_lexer": "ipython3",
   "version": "3.7.1"
  }
 },
 "nbformat": 4,
 "nbformat_minor": 2
}
